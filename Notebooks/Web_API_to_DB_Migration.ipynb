{
  "nbformat": 4,
  "nbformat_minor": 0,
  "metadata": {
    "colab": {
      "name": "Web_API_to_DB_Migration.ipynb",
      "provenance": [],
      "collapsed_sections": []
    },
    "kernelspec": {
      "name": "python3",
      "display_name": "Python 3"
    }
  },
  "cells": [
    {
      "cell_type": "markdown",
      "metadata": {
        "id": "AKcLPx5r-2AV",
        "colab_type": "text"
      },
      "source": [
        "# Notes:\n",
        "##### This notebook demonstrates the preliminary method used to parse JSON from 4 web apis from a COVID-19 site. The data was then inserted en masse into our PostgreSQL database instance on AWS RDS. Since then, the process is being/has been migrated to Flask to include more streamlining through creation of classes for each table and a more organized architecture for our API services, unit tests, models, and images. 21 Apr 20"
      ]
    },
    {
      "cell_type": "code",
      "metadata": {
        "id": "XN_CxNbaDO4u",
        "colab_type": "code",
        "outputId": "007afd5b-6589-4c6d-a35f-3a7f3d21e541",
        "colab": {
          "base_uri": "https://localhost:8080/",
          "height": 71
        }
      },
      "source": [
        "# Imports\n",
        "import psycopg2\n",
        "import requests\n",
        "from psycopg2.extras import Json"
      ],
      "execution_count": 3,
      "outputs": [
        {
          "output_type": "stream",
          "text": [
            "/usr/local/lib/python3.6/dist-packages/psycopg2/__init__.py:144: UserWarning: The psycopg2 wheel package will be renamed from release 2.8; in order to keep installing from binary please use \"pip install psycopg2-binary\" instead. For details see: <http://initd.org/psycopg/docs/install.html#binary-install-from-pypi>.\n",
            "  \"\"\")\n"
          ],
          "name": "stderr"
        }
      ]
    },
    {
      "cell_type": "code",
      "metadata": {
        "id": "xXazonnjwpil",
        "colab_type": "code",
        "colab": {}
      },
      "source": [
        "##########################uslivestatus TABLE#######################################"
      ],
      "execution_count": 0,
      "outputs": []
    },
    {
      "cell_type": "code",
      "metadata": {
        "id": "lirrmvWdDx0y",
        "colab_type": "code",
        "colab": {}
      },
      "source": [
        "# Connect to AWS RDS PostgreSQL DB instance via Psycopg - with secret password\n",
        "conn = psycopg2.connect(host=\"database-earth.cftcdswr9dvc.us-east-2.rds.amazonaws.com\", user=\"postgres\", password=password)"
      ],
      "execution_count": 0,
      "outputs": []
    },
    {
      "cell_type": "code",
      "metadata": {
        "id": "45kiKbk4Dzxj",
        "colab_type": "code",
        "colab": {}
      },
      "source": [
        "# Initial Table Creation\n",
        "# drop duplicates\n",
        "drop_table = 'DROP TABLE IF EXISTS uslivestatus;'\n",
        "\n",
        "# create table query\n",
        "create_table = '''\n",
        "CREATE TABLE uslivestatus (\n",
        "id SERIAL PRIMARY KEY,\n",
        "countrycode TEXT,\n",
        "province TEXT,\n",
        "lat REAL,\n",
        "lon REAL,\n",
        "confirmed INTEGER,\n",
        "deaths INTEGER,\n",
        "recovered INTEGER,\n",
        "active INTEGER,\n",
        "date TIMESTAMP\n",
        ")'''\n",
        "\n",
        "creation_queries = [drop_table, create_table]"
      ],
      "execution_count": 0,
      "outputs": []
    },
    {
      "cell_type": "code",
      "metadata": {
        "id": "UgDieoXrH_DA",
        "colab_type": "code",
        "colab": {}
      },
      "source": [
        "# Run queries\n",
        "for query in creation_queries:\n",
        "    c = conn.cursor()\n",
        "    c.execute(query)\n",
        "    conn.commit()\n",
        "    c.close()"
      ],
      "execution_count": 0,
      "outputs": []
    },
    {
      "cell_type": "code",
      "metadata": {
        "id": "fnDOXYDDHnKQ",
        "colab_type": "code",
        "colab": {}
      },
      "source": [
        "# Put in that sweet data request\n",
        "response = requests.get(\"https://api.covid19api.com/live/country/us/status/confirmed\")\n",
        "record_list = response.json()"
      ],
      "execution_count": 0,
      "outputs": []
    },
    {
      "cell_type": "code",
      "metadata": {
        "id": "FQe1TRR7zpWw",
        "colab_type": "code",
        "outputId": "38a6a57b-6f01-455a-ddaa-bf13a6e7f877",
        "colab": {
          "base_uri": "https://localhost:8080/",
          "height": 629
        }
      },
      "source": [
        "# How does it look?\n",
        "record_list[:3]"
      ],
      "execution_count": 0,
      "outputs": [
        {
          "output_type": "execute_result",
          "data": {
            "text/plain": [
              "[{'Active': 1551,\n",
              "  'City': '',\n",
              "  'CityCode': '',\n",
              "  'Confirmed': 1621,\n",
              "  'Country': 'United States of America',\n",
              "  'CountryCode': 'US',\n",
              "  'Date': '2020-04-13T00:00:00Z',\n",
              "  'Deaths': 70,\n",
              "  'Lat': '45.69',\n",
              "  'Lon': '-93.9',\n",
              "  'Province': 'Minnesota',\n",
              "  'Recovered': 0},\n",
              " {'Active': 7990,\n",
              "  'City': '',\n",
              "  'CityCode': '',\n",
              "  'Confirmed': 8225,\n",
              "  'Country': 'United States of America',\n",
              "  'CountryCode': 'US',\n",
              "  'Date': '2020-04-13T00:00:00Z',\n",
              "  'Deaths': 235,\n",
              "  'Lat': '39.06',\n",
              "  'Lon': '-76.8',\n",
              "  'Province': 'Maryland',\n",
              "  'Recovered': 0},\n",
              " {'Active': 797,\n",
              "  'City': '',\n",
              "  'CityCode': '',\n",
              "  'Confirmed': 814,\n",
              "  'Country': 'United States of America',\n",
              "  'CountryCode': 'US',\n",
              "  'Date': '2020-04-13T00:00:00Z',\n",
              "  'Deaths': 17,\n",
              "  'Lat': '41.13',\n",
              "  'Lon': '-98.27',\n",
              "  'Province': 'Nebraska',\n",
              "  'Recovered': 0}]"
            ]
          },
          "metadata": {
            "tags": []
          },
          "execution_count": 245
        }
      ]
    },
    {
      "cell_type": "code",
      "metadata": {
        "id": "PZ48fvvJa6Cx",
        "colab_type": "code",
        "colab": {}
      },
      "source": [
        "# Separate keys and values. Drop city and citycode as they are empty\n",
        "columns = [(list(x.keys()))[1:3] + (list(x.keys()))[5:] for x in record_list][0]\n",
        "values = [(list(x.values()))[1:3] + (list(x.values()))[5:] for x in record_list]"
      ],
      "execution_count": 0,
      "outputs": []
    },
    {
      "cell_type": "code",
      "metadata": {
        "id": "o57TUf4Syn9C",
        "colab_type": "code",
        "outputId": "0bd180fd-9ed1-4482-e1e0-2c4977ba2f33",
        "colab": {
          "base_uri": "https://localhost:8080/",
          "height": 170
        }
      },
      "source": [
        "# Check the columns\n",
        "columns"
      ],
      "execution_count": 0,
      "outputs": [
        {
          "output_type": "execute_result",
          "data": {
            "text/plain": [
              "['CountryCode',\n",
              " 'Province',\n",
              " 'Lat',\n",
              " 'Lon',\n",
              " 'Confirmed',\n",
              " 'Deaths',\n",
              " 'Recovered',\n",
              " 'Active',\n",
              " 'Date']"
            ]
          },
          "metadata": {
            "tags": []
          },
          "execution_count": 232
        }
      ]
    },
    {
      "cell_type": "code",
      "metadata": {
        "id": "0WPV-bAEsnt3",
        "colab_type": "code",
        "outputId": "69e8cbb8-d418-4e88-aea4-bd723701aebf",
        "colab": {
          "base_uri": "https://localhost:8080/",
          "height": 170
        }
      },
      "source": [
        "# Check some values\n",
        "values[200]"
      ],
      "execution_count": 0,
      "outputs": [
        {
          "output_type": "execute_result",
          "data": {
            "text/plain": [
              "['US',\n",
              " 'New Hampshire',\n",
              " '43.45',\n",
              " '-71.56',\n",
              " 1139,\n",
              " 32,\n",
              " 0,\n",
              " 1107,\n",
              " '2020-04-16T00:00:00Z']"
            ]
          },
          "metadata": {
            "tags": []
          },
          "execution_count": 233
        }
      ]
    },
    {
      "cell_type": "code",
      "metadata": {
        "id": "04l-L3eWdtnJ",
        "colab_type": "code",
        "colab": {}
      },
      "source": [
        "# Use Python to parse the JSON object \n",
        "\n",
        "# value string for the SQL string\n",
        "values_str = ''\n",
        "\n",
        "# enumerate over records' values\n",
        "for i, record in enumerate(values):\n",
        "    #declare empty list for values\n",
        "    val_list = []\n",
        "\n",
        "    # append each value to a new list of values\n",
        "    for v, val in enumerate(record):\n",
        "        if type(val) == str:\n",
        "            val = str(Json(val)).replace('\"','')\n",
        "        val_list += [ str(val) ]\n",
        "\n",
        "    # put parentheses around each record string\n",
        "    values_str += \"(\" + ', '.join( val_list ) + \"),\\n\"\n",
        "\n",
        "# remove the last comma and end SQL with a semicolon\n",
        "values_str = values_str[:-2] + \";\""
      ],
      "execution_count": 0,
      "outputs": []
    },
    {
      "cell_type": "code",
      "metadata": {
        "id": "mfnvOqijqQjT",
        "colab_type": "code",
        "colab": {}
      },
      "source": [
        "# Declare an SQL string for postgresql records\n",
        "\n",
        "# concatenate the SQL string\n",
        "table_name = \"uslivestatus\"\n",
        "sql_string = \"INSERT INTO %s (%s)\\nVALUES %s\" % (\n",
        "    table_name,\n",
        "    ', '.join(columns),\n",
        "    values_str\n",
        ")"
      ],
      "execution_count": 0,
      "outputs": []
    },
    {
      "cell_type": "code",
      "metadata": {
        "id": "l5pSfLudqU84",
        "colab_type": "code",
        "outputId": "8d585720-1af1-40e5-ab13-e84e65853b51",
        "colab": {
          "base_uri": "https://localhost:8080/",
          "height": 54
        }
      },
      "source": [
        "# Check how the execution of the insertion of many sql queries will look\n",
        "sql_string[:250]"
      ],
      "execution_count": 0,
      "outputs": [
        {
          "output_type": "execute_result",
          "data": {
            "text/plain": [
              "\"INSERT INTO uslivestatus (CountryCode, Province, Lat, Lon, Confirmed, Deaths, Recovered, Active, Date)\\nVALUES ('US', 'Minnesota', '45.69', '-93.9', 1621, 70, 0, 1551, '2020-04-13T00:00:00Z'),\\n('US', 'Maryland', '39.06', '-76.8', 8225, 235, 0, 7990, '\""
            ]
          },
          "metadata": {
            "tags": []
          },
          "execution_count": 236
        }
      ]
    },
    {
      "cell_type": "code",
      "metadata": {
        "id": "Z-iiBlbGq9Co",
        "colab_type": "code",
        "colab": {}
      },
      "source": [
        "# Define our function to insert JSON data into database\n",
        "def db_insertion():\n",
        "    curs = conn.cursor()\n",
        "    if curs != None:\n",
        "        try:\n",
        "            curs.execute( sql_string )\n",
        "            conn.commit()\n",
        "            print('\\nfinished INSERT INTO execution')\n",
        "        except Exception as error:\n",
        "            print(\"\\nexecute_sql() error:\", error)\n",
        "            conn.rollback()\n",
        "        #close cursor and connection\n",
        "        curs.close()"
      ],
      "execution_count": 0,
      "outputs": []
    },
    {
      "cell_type": "code",
      "metadata": {
        "id": "WS9uRjE7txGP",
        "colab_type": "code",
        "outputId": "22290504-b151-4cb0-8c45-94cb102875ca",
        "colab": {
          "base_uri": "https://localhost:8080/",
          "height": 51
        }
      },
      "source": [
        "# Insert JSON data into db\n",
        "db_insertion()"
      ],
      "execution_count": 0,
      "outputs": [
        {
          "output_type": "stream",
          "text": [
            "\n",
            "finished INSERT INTO execution\n"
          ],
          "name": "stdout"
        }
      ]
    },
    {
      "cell_type": "code",
      "metadata": {
        "id": "y9spdgKAHslk",
        "colab_type": "code",
        "colab": {}
      },
      "source": [
        "# Close our connection \n",
        "conn.close()"
      ],
      "execution_count": 0,
      "outputs": []
    },
    {
      "cell_type": "code",
      "metadata": {
        "id": "rsHM-yMEjkZi",
        "colab_type": "code",
        "colab": {}
      },
      "source": [
        "##########################uscases TABLE#######################################"
      ],
      "execution_count": 0,
      "outputs": []
    },
    {
      "cell_type": "code",
      "metadata": {
        "id": "0zoz2sUhnerD",
        "colab_type": "code",
        "colab": {}
      },
      "source": [
        "# Connect to AWS RDS postgreSQL instance via psycopg\n",
        "conn = psycopg2.connect(host=\"database-earth.cftcdswr9dvc.us-east-2.rds.amazonaws.com\", user=\"postgres\", password=password)"
      ],
      "execution_count": 0,
      "outputs": []
    },
    {
      "cell_type": "code",
      "metadata": {
        "id": "Myq9tKJB287q",
        "colab_type": "code",
        "colab": {}
      },
      "source": [
        "# Initial Table Creation\n",
        "# drop duplicates\n",
        "drop_table = 'DROP TABLE IF EXISTS uscases;'\n",
        "\n",
        "# create table query\n",
        "create_table = '''\n",
        "CREATE TABLE uscases (\n",
        "id SERIAL PRIMARY KEY,\n",
        "cases INTEGER,\n",
        "date TIMESTAMP\n",
        ")'''\n",
        "\n",
        "creation_queries = [drop_table, create_table]\n",
        "\n",
        "# Run queries\n",
        "for query in creation_queries:\n",
        "    c = conn.cursor()\n",
        "    c.execute(query)\n",
        "    conn.commit()\n",
        "    c.close()"
      ],
      "execution_count": 0,
      "outputs": []
    },
    {
      "cell_type": "code",
      "metadata": {
        "id": "DsYGsgEyktDr",
        "colab_type": "code",
        "colab": {}
      },
      "source": [
        "# Put in that sweet data request\n",
        "response = requests.get(\"https://api.covid19api.com/total/dayone/country/united-states/status/confirmed\")\n",
        "record_list = response.json()\n",
        "# [a[5]]\n",
        "# Separate keys and values (only the unique ones, no nulls, no uniform values)\n",
        "columns = [(list(x.keys()))[7::2] for x in record_list][0]\n",
        "values = [(list(x.values()))[7::2] for x in record_list]"
      ],
      "execution_count": 0,
      "outputs": []
    },
    {
      "cell_type": "code",
      "metadata": {
        "id": "DIpUPYXvlYOl",
        "colab_type": "code",
        "outputId": "0a348b27-282b-44f2-e3ff-cad040c88b0e",
        "colab": {
          "base_uri": "https://localhost:8080/",
          "height": 34
        }
      },
      "source": [
        "# Check our columns\n",
        "columns"
      ],
      "execution_count": 0,
      "outputs": [
        {
          "output_type": "execute_result",
          "data": {
            "text/plain": [
              "['Cases', 'Date']"
            ]
          },
          "metadata": {
            "tags": []
          },
          "execution_count": 120
        }
      ]
    },
    {
      "cell_type": "code",
      "metadata": {
        "id": "EUWVEmjJlPa7",
        "colab_type": "code",
        "outputId": "c74e6169-5971-444d-86fb-23cadbbb217a",
        "colab": {
          "base_uri": "https://localhost:8080/",
          "height": 34
        }
      },
      "source": [
        "# Check some values\n",
        "values[20]"
      ],
      "execution_count": 0,
      "outputs": [
        {
          "output_type": "execute_result",
          "data": {
            "text/plain": [
              "[12, '2020-02-12T00:00:00Z']"
            ]
          },
          "metadata": {
            "tags": []
          },
          "execution_count": 121
        }
      ]
    },
    {
      "cell_type": "code",
      "metadata": {
        "id": "PIuezKvdku_N",
        "colab_type": "code",
        "outputId": "ea44bab5-3148-4c9d-e78c-be7a64eda7a1",
        "colab": {
          "base_uri": "https://localhost:8080/",
          "height": 34
        }
      },
      "source": [
        "# Use Python to parse the JSON object \n",
        "\n",
        "# value string for the SQL string\n",
        "values_str = ''\n",
        "\n",
        "# enumerate over records' values\n",
        "for i, record in enumerate(values):\n",
        "    #declare empty list for values\n",
        "    val_list = []\n",
        "\n",
        "    # append each value to a new list of values\n",
        "    for v, val in enumerate(record):\n",
        "        if type(val) == str:\n",
        "            val = str(Json(val)).replace('\"','')\n",
        "        val_list += [ str(val) ]\n",
        "\n",
        "    # put parentheses around each record string\n",
        "    values_str += \"(\" + ', '.join( val_list ) + \"),\\n\"\n",
        "\n",
        "# remove the last comma and end SQL with a semicolon\n",
        "values_str = values_str[:-2] + \";\"\n",
        "\n",
        "# Declare an SQL string for postgresql records\n",
        "\n",
        "# concatenate the SQL string\n",
        "table_name = \"uscases\"\n",
        "sql_string = \"INSERT INTO %s (%s)\\nVALUES %s\" % (\n",
        "    table_name,\n",
        "    ', '.join(columns),\n",
        "    values_str\n",
        ")\n",
        "\n",
        "len(sql_string)"
      ],
      "execution_count": 0,
      "outputs": [
        {
          "output_type": "execute_result",
          "data": {
            "text/plain": [
              "2846"
            ]
          },
          "metadata": {
            "tags": []
          },
          "execution_count": 122
        }
      ]
    },
    {
      "cell_type": "code",
      "metadata": {
        "id": "nm4S8ZNthkwx",
        "colab_type": "code",
        "outputId": "cce5215d-864f-4b2e-f9a0-312e7af1f37c",
        "colab": {
          "base_uri": "https://localhost:8080/",
          "height": 51
        }
      },
      "source": [
        "# Insert JSON data into db\n",
        "db_insertion()"
      ],
      "execution_count": 0,
      "outputs": [
        {
          "output_type": "stream",
          "text": [
            "\n",
            "finished INSERT INTO execution\n"
          ],
          "name": "stdout"
        }
      ]
    },
    {
      "cell_type": "code",
      "metadata": {
        "id": "GpJXGbtthma8",
        "colab_type": "code",
        "colab": {}
      },
      "source": [
        "# Close our connection \n",
        "conn.close()"
      ],
      "execution_count": 0,
      "outputs": []
    },
    {
      "cell_type": "code",
      "metadata": {
        "id": "st3vZNHXntNS",
        "colab_type": "code",
        "colab": {}
      },
      "source": [
        "##########################summary TABLE#######################################"
      ],
      "execution_count": 0,
      "outputs": []
    },
    {
      "cell_type": "code",
      "metadata": {
        "id": "i5C8ncubpytd",
        "colab_type": "code",
        "colab": {}
      },
      "source": [
        "# Connect to AWS RDS postgreSQL instance via psycopg\n",
        "conn = psycopg2.connect(host=\"database-earth.cftcdswr9dvc.us-east-2.rds.amazonaws.com\", user=\"postgres\", password=password)"
      ],
      "execution_count": 0,
      "outputs": []
    },
    {
      "cell_type": "code",
      "metadata": {
        "id": "46MRWDLkp170",
        "colab_type": "code",
        "colab": {}
      },
      "source": [
        "# Initial Table Creation\n",
        "# drop duplicates\n",
        "drop_table = 'DROP TABLE IF EXISTS summary;'\n",
        "\n",
        "# create table query\n",
        "create_table = '''\n",
        "CREATE TABLE summary (\n",
        "countrycode TEXT,\n",
        "slug TEXT PRIMARY KEY,\n",
        "newconfirmed INTEGER,\n",
        "totalconfirmed INTEGER,\n",
        "newdeaths INTEGER,\n",
        "totaldeaths INTEGER,\n",
        "newrecovered INTEGER,\n",
        "totalrecovered INTEGER,\n",
        "date TIMESTAMP\n",
        ")'''\n",
        "\n",
        "creation_queries = [drop_table, create_table]\n",
        "\n",
        "# Run queries\n",
        "for query in creation_queries:\n",
        "    c = conn.cursor()\n",
        "    c.execute(query)\n",
        "    conn.commit()\n",
        "    c.close()"
      ],
      "execution_count": 0,
      "outputs": []
    },
    {
      "cell_type": "code",
      "metadata": {
        "id": "bmutgavhp4cU",
        "colab_type": "code",
        "colab": {}
      },
      "source": [
        "# Put in that sweet data request\n",
        "response = requests.get(\"https://api.covid19api.com/summary\")\n",
        "list_of_dict = response.json()\n",
        "\n",
        "# Just get country data\n",
        "record_list = list_of_dict['Countries']\n",
        "\n",
        "# Separate keys and values\n",
        "columns = [(list(x.keys()))[1:] for x in record_list][0]\n",
        "values = [(list(x.values()))[1:] for x in record_list]"
      ],
      "execution_count": 0,
      "outputs": []
    },
    {
      "cell_type": "code",
      "metadata": {
        "id": "6_bs8EB9th95",
        "colab_type": "code",
        "outputId": "635ef2ab-7604-4b8c-d218-868a3fdf16c7",
        "colab": {
          "base_uri": "https://localhost:8080/",
          "height": 170
        }
      },
      "source": [
        "columns"
      ],
      "execution_count": 0,
      "outputs": [
        {
          "output_type": "execute_result",
          "data": {
            "text/plain": [
              "['CountryCode',\n",
              " 'Slug',\n",
              " 'NewConfirmed',\n",
              " 'TotalConfirmed',\n",
              " 'NewDeaths',\n",
              " 'TotalDeaths',\n",
              " 'NewRecovered',\n",
              " 'TotalRecovered',\n",
              " 'Date']"
            ]
          },
          "metadata": {
            "tags": []
          },
          "execution_count": 213
        }
      ]
    },
    {
      "cell_type": "code",
      "metadata": {
        "id": "K4uHmKJDp52K",
        "colab_type": "code",
        "outputId": "c7b0d12b-7917-445f-ba48-0e7d72e114b8",
        "colab": {
          "base_uri": "https://localhost:8080/",
          "height": 34
        }
      },
      "source": [
        "values[5]"
      ],
      "execution_count": 0,
      "outputs": [
        {
          "output_type": "execute_result",
          "data": {
            "text/plain": [
              "['AD', 'andorra', 4, 717, 1, 37, 13, 248, '2020-04-21T03:15:26Z']"
            ]
          },
          "metadata": {
            "tags": []
          },
          "execution_count": 214
        }
      ]
    },
    {
      "cell_type": "code",
      "metadata": {
        "id": "osZnJKYtp7gw",
        "colab_type": "code",
        "outputId": "ac104ae4-d674-4d20-937b-3933e186c70e",
        "colab": {
          "base_uri": "https://localhost:8080/",
          "height": 34
        }
      },
      "source": [
        "values[20]"
      ],
      "execution_count": 0,
      "outputs": [
        {
          "output_type": "execute_result",
          "data": {
            "text/plain": [
              "['BY', 'belarus', 1485, 6264, 4, 51, 20, 514, '2020-04-21T03:15:26Z']"
            ]
          },
          "metadata": {
            "tags": []
          },
          "execution_count": 215
        }
      ]
    },
    {
      "cell_type": "code",
      "metadata": {
        "id": "8SdWuNP6p-c5",
        "colab_type": "code",
        "outputId": "e7afd4db-8de5-4123-902f-63bd372589df",
        "colab": {
          "base_uri": "https://localhost:8080/",
          "height": 34
        }
      },
      "source": [
        "# Use Python to parse the JSON object \n",
        "\n",
        "# value string for the SQL string\n",
        "values_str = ''\n",
        "\n",
        "# enumerate over records' values\n",
        "for i, record in enumerate(values):\n",
        "    #declare empty list for values\n",
        "    val_list = []\n",
        "\n",
        "    # append each value to a new list of values\n",
        "    for v, val in enumerate(record):\n",
        "        if type(val) == str:\n",
        "            val = str(Json(val)).replace('\"','')\n",
        "        val_list += [ str(val) ]\n",
        "\n",
        "    # put parentheses around each record string\n",
        "    values_str += \"(\" + ', '.join( val_list ) + \"),\\n\"\n",
        "\n",
        "# remove the last comma and end SQL with a semicolon\n",
        "values_str = values_str[:-2] + \";\"\n",
        "\n",
        "# Declare an SQL string for postgresql records\n",
        "\n",
        "# concatenate the SQL string\n",
        "table_name = \"summary\"\n",
        "sql_string = \"INSERT INTO %s (%s)\\nVALUES %s\" % (\n",
        "    table_name,\n",
        "    ', '.join(columns),\n",
        "    values_str\n",
        ")\n",
        "\n",
        "len(sql_string)"
      ],
      "execution_count": 0,
      "outputs": [
        {
          "output_type": "execute_result",
          "data": {
            "text/plain": [
              "17180"
            ]
          },
          "metadata": {
            "tags": []
          },
          "execution_count": 216
        }
      ]
    },
    {
      "cell_type": "code",
      "metadata": {
        "id": "k-7mHkZfvn7U",
        "colab_type": "code",
        "outputId": "7e698e39-ba56-47d6-b0f4-36b920d31e76",
        "colab": {
          "base_uri": "https://localhost:8080/",
          "height": 51
        }
      },
      "source": [
        "# Insert JSON data into db\n",
        "db_insertion()"
      ],
      "execution_count": 0,
      "outputs": [
        {
          "output_type": "stream",
          "text": [
            "\n",
            "finished INSERT INTO execution\n"
          ],
          "name": "stdout"
        }
      ]
    },
    {
      "cell_type": "code",
      "metadata": {
        "id": "RfE6bw0nvpj_",
        "colab_type": "code",
        "colab": {}
      },
      "source": [
        "# Close our connection \n",
        "conn.close()"
      ],
      "execution_count": 0,
      "outputs": []
    },
    {
      "cell_type": "code",
      "metadata": {
        "id": "57pSxEogeVhZ",
        "colab_type": "code",
        "colab": {}
      },
      "source": [
        "##########################uscounty TABLE#######################################"
      ],
      "execution_count": 0,
      "outputs": []
    },
    {
      "cell_type": "code",
      "metadata": {
        "id": "Omo8hp65eYJL",
        "colab_type": "code",
        "colab": {}
      },
      "source": [
        "# Connect to AWS RDS postgreSQL instance via psycopg\n",
        "conn = psycopg2.connect(host=\"database-earth.cftcdswr9dvc.us-east-2.rds.amazonaws.com\", user=\"postgres\", password=password)"
      ],
      "execution_count": 0,
      "outputs": []
    },
    {
      "cell_type": "code",
      "metadata": {
        "id": "tcfU6WrAeaCb",
        "colab_type": "code",
        "colab": {}
      },
      "source": [
        "# Initial Table Creation\n",
        "# drop duplicates\n",
        "drop_table = 'DROP TABLE IF EXISTS uscounties;'\n",
        "\n",
        "# create table query\n",
        "create_table = '''\n",
        "CREATE TABLE uscounties (\n",
        "id SERIAL PRIMARY KEY,\n",
        "country TEXT,\n",
        "countrycode TEXT,\n",
        "province TEXT,\n",
        "city TEXT,\n",
        "citycode TEXT,\n",
        "lat REAL,\n",
        "lon REAL,\n",
        "cases INTEGER,\n",
        "status TEXT,\n",
        "date TIMESTAMP\n",
        ")'''\n",
        "\n",
        "creation_queries = [drop_table, create_table]\n",
        "\n",
        "# Run queries\n",
        "for query in creation_queries:\n",
        "    c = conn.cursor()\n",
        "    c.execute(query)\n",
        "    conn.commit()\n",
        "    c.close()"
      ],
      "execution_count": 0,
      "outputs": []
    },
    {
      "cell_type": "code",
      "metadata": {
        "id": "pn1xmW37eb4G",
        "colab_type": "code",
        "colab": {}
      },
      "source": [
        "# Put in that sweet data request\n",
        "response = requests.get(\"https://api.covid19api.com/country/us/status/confirmed/live\")\n",
        "record_list = response.json()\n",
        "\n",
        "# Separate keys and values\n",
        "columns = [(list(x.keys())) for x in record_list][0]\n",
        "values = [(list(x.values())) for x in record_list]"
      ],
      "execution_count": 0,
      "outputs": []
    },
    {
      "cell_type": "code",
      "metadata": {
        "id": "-hWIeSlkeeBJ",
        "colab_type": "code",
        "colab": {
          "base_uri": "https://localhost:8080/",
          "height": 187
        },
        "outputId": "0a53e4d4-abfa-4b29-e1b0-7b94046e4e6b"
      },
      "source": [
        "columns"
      ],
      "execution_count": 26,
      "outputs": [
        {
          "output_type": "execute_result",
          "data": {
            "text/plain": [
              "['Country',\n",
              " 'CountryCode',\n",
              " 'Province',\n",
              " 'City',\n",
              " 'CityCode',\n",
              " 'Lat',\n",
              " 'Lon',\n",
              " 'Cases',\n",
              " 'Status',\n",
              " 'Date']"
            ]
          },
          "metadata": {
            "tags": []
          },
          "execution_count": 26
        }
      ]
    },
    {
      "cell_type": "code",
      "metadata": {
        "id": "kS1-8jOIeer3",
        "colab_type": "code",
        "colab": {
          "base_uri": "https://localhost:8080/",
          "height": 187
        },
        "outputId": "7c1d019a-2e81-4596-cb8c-54e10f2c7380"
      },
      "source": [
        "values[20]"
      ],
      "execution_count": 27,
      "outputs": [
        {
          "output_type": "execute_result",
          "data": {
            "text/plain": [
              "['United States of America',\n",
              " 'US',\n",
              " 'Wyoming',\n",
              " 'Crook',\n",
              " '56011',\n",
              " '44.59',\n",
              " '-104.57',\n",
              " 0,\n",
              " 'confirmed',\n",
              " '2020-01-22T00:00:00Z']"
            ]
          },
          "metadata": {
            "tags": []
          },
          "execution_count": 27
        }
      ]
    },
    {
      "cell_type": "code",
      "metadata": {
        "id": "PS_eXXyxehu6",
        "colab_type": "code",
        "colab": {
          "base_uri": "https://localhost:8080/",
          "height": 34
        },
        "outputId": "9ef6e08a-5157-4c48-bc80-0b15e5d58e29"
      },
      "source": [
        "# Use Python to parse the JSON object \n",
        "\n",
        "# value string for the SQL string\n",
        "values_str = ''\n",
        "\n",
        "# enumerate over records' values\n",
        "for i, record in enumerate(values):\n",
        "    #declare empty list for values\n",
        "    val_list = []\n",
        "\n",
        "    # append each value to a new list of values\n",
        "    for v, val in enumerate(record):\n",
        "        if type(val) == str:\n",
        "            val = str(Json(val)).replace('\"','')\n",
        "        val_list += [ str(val) ]\n",
        "\n",
        "    # put parentheses around each record string\n",
        "    values_str += \"(\" + ', '.join( val_list ) + \"),\\n\"\n",
        "\n",
        "# remove the last comma and end SQL with a semicolon\n",
        "values_str = values_str[:-2] + \";\"\n",
        "\n",
        "# Declare an SQL string for postgresql records\n",
        "\n",
        "# concatenate the SQL string\n",
        "table_name = \"uscounties\"\n",
        "sql_string = \"INSERT INTO %s (%s)\\nVALUES %s\" % (\n",
        "    table_name,\n",
        "    ', '.join(columns),\n",
        "    values_str\n",
        ")\n",
        "\n",
        "len(sql_string)"
      ],
      "execution_count": 28,
      "outputs": [
        {
          "output_type": "execute_result",
          "data": {
            "text/plain": [
              "37571429"
            ]
          },
          "metadata": {
            "tags": []
          },
          "execution_count": 28
        }
      ]
    },
    {
      "cell_type": "code",
      "metadata": {
        "id": "ojIAjx4cejq-",
        "colab_type": "code",
        "colab": {
          "base_uri": "https://localhost:8080/",
          "height": 51
        },
        "outputId": "35fcd60b-8a58-4727-ede4-ea1b6807220c"
      },
      "source": [
        "# Insert JSON data into db\n",
        "db_insertion()"
      ],
      "execution_count": 29,
      "outputs": [
        {
          "output_type": "stream",
          "text": [
            "\n",
            "finished INSERT INTO execution\n"
          ],
          "name": "stdout"
        }
      ]
    },
    {
      "cell_type": "code",
      "metadata": {
        "id": "2-dUzSCXelVA",
        "colab_type": "code",
        "colab": {}
      },
      "source": [
        "# Close our connection \n",
        "conn.close()"
      ],
      "execution_count": 0,
      "outputs": []
    }
  ]
}