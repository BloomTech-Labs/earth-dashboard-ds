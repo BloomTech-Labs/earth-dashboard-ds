{
  "nbformat": 4,
  "nbformat_minor": 0,
  "metadata": {
    "colab": {
      "name": "COVID19DataAPI_CVDataVis2.ipynb",
      "provenance": [],
      "collapsed_sections": []
    },
    "kernelspec": {
      "name": "python3",
      "display_name": "Python 3"
    }
  },
  "cells": [
    {
      "cell_type": "markdown",
      "metadata": {
        "id": "UWQY4dOFuwEC",
        "colab_type": "text"
      },
      "source": [
        "# COVID-19 Data (API).\n",
        "### COVID-19 World Data.\n",
        "[site](https://covid19api.com/) | [API info](https://documenter.getpostman.com/view/10808728/SzS8rjbc?version=latest)\n"
      ]
    },
    {
      "cell_type": "code",
      "metadata": {
        "id": "oZm6OLzp5-Hk",
        "colab_type": "code",
        "colab": {}
      },
      "source": [
        "# necessary imports for notebook.\n",
        "import pandas as pd\n",
        "import requests\n",
        "from pandas.io.json import json_normalize \n",
        "import json\n",
        "import plotly.graph_objects as go"
      ],
      "execution_count": 0,
      "outputs": []
    },
    {
      "cell_type": "code",
      "metadata": {
        "id": "JK-ljUuGpd2h",
        "colab_type": "code",
        "outputId": "b656e85c-23f9-42a6-9607-9754777118bc",
        "colab": {
          "base_uri": "https://localhost:8080/",
          "height": 393
        }
      },
      "source": [
        "''' COVID-19 : Countries Daily Summary Total'''\n",
        "# COVID-19 Data.\n",
        "'''https://covid19api.com/'''\n",
        "'''https://documenter.getpostman.com/view/10808728/SzS8rjbc?version=latest'''\n",
        "response = requests.get(\"https://api.covid19api.com/summary\")\n",
        "# show the status code.\n",
        "print(response.status_code)\n",
        "covid_cs = response.json()\n",
        "covid_countriessummary = json_normalize(covid_cs, 'Countries')\n",
        "# show the data frame shape.\n",
        "print(covid_countriessummary.shape)\n",
        "# show the data frame with headers.\n",
        "covid_countriessummary.head()"
      ],
      "execution_count": 0,
      "outputs": [
        {
          "output_type": "stream",
          "text": [
            "200\n",
            "(247, 10)\n"
          ],
          "name": "stdout"
        },
        {
          "output_type": "stream",
          "text": [
            "/usr/local/lib/python3.6/dist-packages/ipykernel_launcher.py:9: FutureWarning:\n",
            "\n",
            "pandas.io.json.json_normalize is deprecated, use pandas.json_normalize instead\n",
            "\n"
          ],
          "name": "stderr"
        },
        {
          "output_type": "execute_result",
          "data": {
            "text/html": [
              "<div>\n",
              "<style scoped>\n",
              "    .dataframe tbody tr th:only-of-type {\n",
              "        vertical-align: middle;\n",
              "    }\n",
              "\n",
              "    .dataframe tbody tr th {\n",
              "        vertical-align: top;\n",
              "    }\n",
              "\n",
              "    .dataframe thead th {\n",
              "        text-align: right;\n",
              "    }\n",
              "</style>\n",
              "<table border=\"1\" class=\"dataframe\">\n",
              "  <thead>\n",
              "    <tr style=\"text-align: right;\">\n",
              "      <th></th>\n",
              "      <th>Country</th>\n",
              "      <th>CountryCode</th>\n",
              "      <th>Slug</th>\n",
              "      <th>NewConfirmed</th>\n",
              "      <th>TotalConfirmed</th>\n",
              "      <th>NewDeaths</th>\n",
              "      <th>TotalDeaths</th>\n",
              "      <th>NewRecovered</th>\n",
              "      <th>TotalRecovered</th>\n",
              "      <th>Date</th>\n",
              "    </tr>\n",
              "  </thead>\n",
              "  <tbody>\n",
              "    <tr>\n",
              "      <th>0</th>\n",
              "      <td>ALA Aland Islands</td>\n",
              "      <td>AX</td>\n",
              "      <td>ala-aland-islands</td>\n",
              "      <td>0</td>\n",
              "      <td>0</td>\n",
              "      <td>0</td>\n",
              "      <td>0</td>\n",
              "      <td>0</td>\n",
              "      <td>0</td>\n",
              "      <td>2020-04-22T02:16:56Z</td>\n",
              "    </tr>\n",
              "    <tr>\n",
              "      <th>1</th>\n",
              "      <td>Afghanistan</td>\n",
              "      <td>AF</td>\n",
              "      <td>afghanistan</td>\n",
              "      <td>66</td>\n",
              "      <td>1092</td>\n",
              "      <td>0</td>\n",
              "      <td>36</td>\n",
              "      <td>15</td>\n",
              "      <td>150</td>\n",
              "      <td>2020-04-22T02:16:56Z</td>\n",
              "    </tr>\n",
              "    <tr>\n",
              "      <th>2</th>\n",
              "      <td>Albania</td>\n",
              "      <td>AL</td>\n",
              "      <td>albania</td>\n",
              "      <td>25</td>\n",
              "      <td>609</td>\n",
              "      <td>0</td>\n",
              "      <td>26</td>\n",
              "      <td>18</td>\n",
              "      <td>345</td>\n",
              "      <td>2020-04-22T02:16:56Z</td>\n",
              "    </tr>\n",
              "    <tr>\n",
              "      <th>3</th>\n",
              "      <td>Algeria</td>\n",
              "      <td>DZ</td>\n",
              "      <td>algeria</td>\n",
              "      <td>93</td>\n",
              "      <td>2811</td>\n",
              "      <td>8</td>\n",
              "      <td>392</td>\n",
              "      <td>53</td>\n",
              "      <td>1152</td>\n",
              "      <td>2020-04-22T02:16:56Z</td>\n",
              "    </tr>\n",
              "    <tr>\n",
              "      <th>4</th>\n",
              "      <td>American Samoa</td>\n",
              "      <td>AS</td>\n",
              "      <td>american-samoa</td>\n",
              "      <td>0</td>\n",
              "      <td>0</td>\n",
              "      <td>0</td>\n",
              "      <td>0</td>\n",
              "      <td>0</td>\n",
              "      <td>0</td>\n",
              "      <td>2020-04-22T02:16:56Z</td>\n",
              "    </tr>\n",
              "  </tbody>\n",
              "</table>\n",
              "</div>"
            ],
            "text/plain": [
              "             Country CountryCode  ... TotalRecovered                  Date\n",
              "0  ALA Aland Islands          AX  ...              0  2020-04-22T02:16:56Z\n",
              "1        Afghanistan          AF  ...            150  2020-04-22T02:16:56Z\n",
              "2            Albania          AL  ...            345  2020-04-22T02:16:56Z\n",
              "3            Algeria          DZ  ...           1152  2020-04-22T02:16:56Z\n",
              "4     American Samoa          AS  ...              0  2020-04-22T02:16:56Z\n",
              "\n",
              "[5 rows x 10 columns]"
            ]
          },
          "metadata": {
            "tags": []
          },
          "execution_count": 17
        }
      ]
    },
    {
      "cell_type": "code",
      "metadata": {
        "id": "g_1EG5Gssv0i",
        "colab_type": "code",
        "outputId": "0a6d51a3-f849-4210-d446-966e87e11c37",
        "colab": {
          "base_uri": "https://localhost:8080/",
          "height": 306
        }
      },
      "source": [
        "''' COVID-19 : Country Daily Total Confirmed Count'''\n",
        "# COVID-19 Data.\n",
        "'''https://covid19api.com/'''\n",
        "'''https://documenter.getpostman.com/view/10808728/SzS8rjbc?version=latest'''\n",
        "response = requests.get(\"https://api.covid19api.com/total/country/us/status/confirmed\")\n",
        "# show the status code.\n",
        "print(response.status_code)\n",
        "covid_cc = response.json()\n",
        "covid_countryconfirmed = json_normalize(covid_cc)\n",
        "# show the data frame shape.\n",
        "print(covid_countryconfirmed.shape)\n",
        "# show the data frame with headers.\n",
        "covid_countryconfirmed.head()"
      ],
      "execution_count": 0,
      "outputs": [
        {
          "output_type": "stream",
          "text": [
            "200\n",
            "(91, 10)\n"
          ],
          "name": "stdout"
        },
        {
          "output_type": "stream",
          "text": [
            "/usr/local/lib/python3.6/dist-packages/ipykernel_launcher.py:8: FutureWarning:\n",
            "\n",
            "pandas.io.json.json_normalize is deprecated, use pandas.json_normalize instead\n",
            "\n"
          ],
          "name": "stderr"
        },
        {
          "output_type": "execute_result",
          "data": {
            "text/html": [
              "<div>\n",
              "<style scoped>\n",
              "    .dataframe tbody tr th:only-of-type {\n",
              "        vertical-align: middle;\n",
              "    }\n",
              "\n",
              "    .dataframe tbody tr th {\n",
              "        vertical-align: top;\n",
              "    }\n",
              "\n",
              "    .dataframe thead th {\n",
              "        text-align: right;\n",
              "    }\n",
              "</style>\n",
              "<table border=\"1\" class=\"dataframe\">\n",
              "  <thead>\n",
              "    <tr style=\"text-align: right;\">\n",
              "      <th></th>\n",
              "      <th>Country</th>\n",
              "      <th>CountryCode</th>\n",
              "      <th>Province</th>\n",
              "      <th>City</th>\n",
              "      <th>CityCode</th>\n",
              "      <th>Lat</th>\n",
              "      <th>Lon</th>\n",
              "      <th>Cases</th>\n",
              "      <th>Status</th>\n",
              "      <th>Date</th>\n",
              "    </tr>\n",
              "  </thead>\n",
              "  <tbody>\n",
              "    <tr>\n",
              "      <th>0</th>\n",
              "      <td>United States of America</td>\n",
              "      <td></td>\n",
              "      <td></td>\n",
              "      <td></td>\n",
              "      <td></td>\n",
              "      <td>0</td>\n",
              "      <td>0</td>\n",
              "      <td>0</td>\n",
              "      <td>confirmed</td>\n",
              "      <td>2020-01-22T00:00:00Z</td>\n",
              "    </tr>\n",
              "    <tr>\n",
              "      <th>1</th>\n",
              "      <td>United States of America</td>\n",
              "      <td></td>\n",
              "      <td></td>\n",
              "      <td></td>\n",
              "      <td></td>\n",
              "      <td>0</td>\n",
              "      <td>0</td>\n",
              "      <td>1</td>\n",
              "      <td>confirmed</td>\n",
              "      <td>2020-01-23T00:00:00Z</td>\n",
              "    </tr>\n",
              "    <tr>\n",
              "      <th>2</th>\n",
              "      <td>United States of America</td>\n",
              "      <td></td>\n",
              "      <td></td>\n",
              "      <td></td>\n",
              "      <td></td>\n",
              "      <td>0</td>\n",
              "      <td>0</td>\n",
              "      <td>2</td>\n",
              "      <td>confirmed</td>\n",
              "      <td>2020-01-24T00:00:00Z</td>\n",
              "    </tr>\n",
              "    <tr>\n",
              "      <th>3</th>\n",
              "      <td>United States of America</td>\n",
              "      <td></td>\n",
              "      <td></td>\n",
              "      <td></td>\n",
              "      <td></td>\n",
              "      <td>0</td>\n",
              "      <td>0</td>\n",
              "      <td>2</td>\n",
              "      <td>confirmed</td>\n",
              "      <td>2020-01-25T00:00:00Z</td>\n",
              "    </tr>\n",
              "    <tr>\n",
              "      <th>4</th>\n",
              "      <td>United States of America</td>\n",
              "      <td></td>\n",
              "      <td></td>\n",
              "      <td></td>\n",
              "      <td></td>\n",
              "      <td>0</td>\n",
              "      <td>0</td>\n",
              "      <td>5</td>\n",
              "      <td>confirmed</td>\n",
              "      <td>2020-01-26T00:00:00Z</td>\n",
              "    </tr>\n",
              "  </tbody>\n",
              "</table>\n",
              "</div>"
            ],
            "text/plain": [
              "                    Country CountryCode  ...     Status                  Date\n",
              "0  United States of America              ...  confirmed  2020-01-22T00:00:00Z\n",
              "1  United States of America              ...  confirmed  2020-01-23T00:00:00Z\n",
              "2  United States of America              ...  confirmed  2020-01-24T00:00:00Z\n",
              "3  United States of America              ...  confirmed  2020-01-25T00:00:00Z\n",
              "4  United States of America              ...  confirmed  2020-01-26T00:00:00Z\n",
              "\n",
              "[5 rows x 10 columns]"
            ]
          },
          "metadata": {
            "tags": []
          },
          "execution_count": 9
        }
      ]
    },
    {
      "cell_type": "code",
      "metadata": {
        "id": "PGUmewfUtjxw",
        "colab_type": "code",
        "outputId": "0eeb899f-6500-45ab-bfa5-e0a682fa4162",
        "colab": {
          "base_uri": "https://localhost:8080/",
          "height": 306
        }
      },
      "source": [
        "''' COVID-19 : Country/State/Province Daily Individual Case'''\n",
        "# COVID-19 Data.\n",
        "'''https://covid19api.com/'''\n",
        "'''https://documenter.getpostman.com/view/10808728/SzS8rjbc?version=latest'''\n",
        "response = requests.get(\"https://api.covid19api.com/country/us/status/confirmed/live\")\n",
        "# show the status code.\n",
        "print(response.status_code)\n",
        "covid_ci = response.json()\n",
        "covid_countryindividual = json_normalize(covid_ci)\n",
        "# show the data frame shape.\n",
        "print(covid_countryindividual.shape)\n",
        "# show the data frame with headers.\n",
        "covid_countryindividual.head()"
      ],
      "execution_count": 0,
      "outputs": [
        {
          "output_type": "stream",
          "text": [
            "200\n"
          ],
          "name": "stdout"
        },
        {
          "output_type": "stream",
          "text": [
            "/usr/local/lib/python3.6/dist-packages/ipykernel_launcher.py:10: FutureWarning:\n",
            "\n",
            "pandas.io.json.json_normalize is deprecated, use pandas.json_normalize instead\n",
            "\n"
          ],
          "name": "stderr"
        },
        {
          "output_type": "stream",
          "text": [
            "(296024, 10)\n"
          ],
          "name": "stdout"
        },
        {
          "output_type": "execute_result",
          "data": {
            "text/html": [
              "<div>\n",
              "<style scoped>\n",
              "    .dataframe tbody tr th:only-of-type {\n",
              "        vertical-align: middle;\n",
              "    }\n",
              "\n",
              "    .dataframe tbody tr th {\n",
              "        vertical-align: top;\n",
              "    }\n",
              "\n",
              "    .dataframe thead th {\n",
              "        text-align: right;\n",
              "    }\n",
              "</style>\n",
              "<table border=\"1\" class=\"dataframe\">\n",
              "  <thead>\n",
              "    <tr style=\"text-align: right;\">\n",
              "      <th></th>\n",
              "      <th>Country</th>\n",
              "      <th>CountryCode</th>\n",
              "      <th>Province</th>\n",
              "      <th>City</th>\n",
              "      <th>CityCode</th>\n",
              "      <th>Lat</th>\n",
              "      <th>Lon</th>\n",
              "      <th>Cases</th>\n",
              "      <th>Status</th>\n",
              "      <th>Date</th>\n",
              "    </tr>\n",
              "  </thead>\n",
              "  <tbody>\n",
              "    <tr>\n",
              "      <th>0</th>\n",
              "      <td>United States of America</td>\n",
              "      <td>US</td>\n",
              "      <td>Wyoming</td>\n",
              "      <td>Unassigned</td>\n",
              "      <td>90056</td>\n",
              "      <td>0</td>\n",
              "      <td>0</td>\n",
              "      <td>0</td>\n",
              "      <td>confirmed</td>\n",
              "      <td>2020-01-22T00:00:00Z</td>\n",
              "    </tr>\n",
              "    <tr>\n",
              "      <th>1</th>\n",
              "      <td>United States of America</td>\n",
              "      <td>US</td>\n",
              "      <td>Wyoming</td>\n",
              "      <td>Washakie</td>\n",
              "      <td>56043</td>\n",
              "      <td>43.9</td>\n",
              "      <td>-107.68</td>\n",
              "      <td>0</td>\n",
              "      <td>confirmed</td>\n",
              "      <td>2020-01-22T00:00:00Z</td>\n",
              "    </tr>\n",
              "    <tr>\n",
              "      <th>2</th>\n",
              "      <td>United States of America</td>\n",
              "      <td>US</td>\n",
              "      <td>Wyoming</td>\n",
              "      <td>Weston</td>\n",
              "      <td>56045</td>\n",
              "      <td>43.84</td>\n",
              "      <td>-104.57</td>\n",
              "      <td>0</td>\n",
              "      <td>confirmed</td>\n",
              "      <td>2020-01-22T00:00:00Z</td>\n",
              "    </tr>\n",
              "    <tr>\n",
              "      <th>3</th>\n",
              "      <td>United States of America</td>\n",
              "      <td>US</td>\n",
              "      <td>Wyoming</td>\n",
              "      <td>Lincoln</td>\n",
              "      <td>56023</td>\n",
              "      <td>42.26</td>\n",
              "      <td>-110.66</td>\n",
              "      <td>0</td>\n",
              "      <td>confirmed</td>\n",
              "      <td>2020-01-22T00:00:00Z</td>\n",
              "    </tr>\n",
              "    <tr>\n",
              "      <th>4</th>\n",
              "      <td>United States of America</td>\n",
              "      <td>US</td>\n",
              "      <td>Wyoming</td>\n",
              "      <td>Natrona</td>\n",
              "      <td>56025</td>\n",
              "      <td>42.96</td>\n",
              "      <td>-106.8</td>\n",
              "      <td>0</td>\n",
              "      <td>confirmed</td>\n",
              "      <td>2020-01-22T00:00:00Z</td>\n",
              "    </tr>\n",
              "  </tbody>\n",
              "</table>\n",
              "</div>"
            ],
            "text/plain": [
              "                    Country CountryCode  ...     Status                  Date\n",
              "0  United States of America          US  ...  confirmed  2020-01-22T00:00:00Z\n",
              "1  United States of America          US  ...  confirmed  2020-01-22T00:00:00Z\n",
              "2  United States of America          US  ...  confirmed  2020-01-22T00:00:00Z\n",
              "3  United States of America          US  ...  confirmed  2020-01-22T00:00:00Z\n",
              "4  United States of America          US  ...  confirmed  2020-01-22T00:00:00Z\n",
              "\n",
              "[5 rows x 10 columns]"
            ]
          },
          "metadata": {
            "tags": []
          },
          "execution_count": 2
        }
      ]
    },
    {
      "cell_type": "code",
      "metadata": {
        "id": "jdlwlnWopB_d",
        "colab_type": "code",
        "colab": {}
      },
      "source": [
        "# data frame options.\n",
        "\n",
        "# data frame includes Cases 0.\n",
        "df = covid_countryindividual.copy()\n",
        "# data frame not including Cases 0.\n",
        "#df = covid_countryindividual[covid_countryindividual.Cases != 0]"
      ],
      "execution_count": 0,
      "outputs": []
    },
    {
      "cell_type": "code",
      "metadata": {
        "id": "vvPkgAt3qQbR",
        "colab_type": "code",
        "outputId": "749b447c-0feb-40e3-b3da-a9640c8a1f8b",
        "colab": {
          "base_uri": "https://localhost:8080/",
          "height": 220
        }
      },
      "source": [
        "# show the data frame shape.\n",
        "print(df.shape)\n",
        "# show the data frame with headers.\n",
        "df.head()"
      ],
      "execution_count": 0,
      "outputs": [
        {
          "output_type": "stream",
          "text": [
            "(77732, 10)\n"
          ],
          "name": "stdout"
        },
        {
          "output_type": "execute_result",
          "data": {
            "text/html": [
              "<div>\n",
              "<style scoped>\n",
              "    .dataframe tbody tr th:only-of-type {\n",
              "        vertical-align: middle;\n",
              "    }\n",
              "\n",
              "    .dataframe tbody tr th {\n",
              "        vertical-align: top;\n",
              "    }\n",
              "\n",
              "    .dataframe thead th {\n",
              "        text-align: right;\n",
              "    }\n",
              "</style>\n",
              "<table border=\"1\" class=\"dataframe\">\n",
              "  <thead>\n",
              "    <tr style=\"text-align: right;\">\n",
              "      <th></th>\n",
              "      <th>Country</th>\n",
              "      <th>CountryCode</th>\n",
              "      <th>Province</th>\n",
              "      <th>City</th>\n",
              "      <th>CityCode</th>\n",
              "      <th>Lat</th>\n",
              "      <th>Lon</th>\n",
              "      <th>Cases</th>\n",
              "      <th>Status</th>\n",
              "      <th>Date</th>\n",
              "    </tr>\n",
              "  </thead>\n",
              "  <tbody>\n",
              "    <tr>\n",
              "      <th>4901</th>\n",
              "      <td>United States of America</td>\n",
              "      <td>US</td>\n",
              "      <td>Washington</td>\n",
              "      <td>King</td>\n",
              "      <td>53033</td>\n",
              "      <td>47.49</td>\n",
              "      <td>-121.83</td>\n",
              "      <td>1</td>\n",
              "      <td>confirmed</td>\n",
              "      <td>2020-01-23T00:00:00Z</td>\n",
              "    </tr>\n",
              "    <tr>\n",
              "      <th>7465</th>\n",
              "      <td>United States of America</td>\n",
              "      <td>US</td>\n",
              "      <td>Illinois</td>\n",
              "      <td>Cook</td>\n",
              "      <td>17031</td>\n",
              "      <td>41.84</td>\n",
              "      <td>-87.82</td>\n",
              "      <td>1</td>\n",
              "      <td>confirmed</td>\n",
              "      <td>2020-01-24T00:00:00Z</td>\n",
              "    </tr>\n",
              "    <tr>\n",
              "      <th>9610</th>\n",
              "      <td>United States of America</td>\n",
              "      <td>US</td>\n",
              "      <td>Washington</td>\n",
              "      <td>King</td>\n",
              "      <td>53033</td>\n",
              "      <td>47.49</td>\n",
              "      <td>-121.83</td>\n",
              "      <td>1</td>\n",
              "      <td>confirmed</td>\n",
              "      <td>2020-01-24T00:00:00Z</td>\n",
              "    </tr>\n",
              "    <tr>\n",
              "      <th>9874</th>\n",
              "      <td>United States of America</td>\n",
              "      <td>US</td>\n",
              "      <td>Washington</td>\n",
              "      <td>King</td>\n",
              "      <td>53033</td>\n",
              "      <td>47.49</td>\n",
              "      <td>-121.83</td>\n",
              "      <td>1</td>\n",
              "      <td>confirmed</td>\n",
              "      <td>2020-01-25T00:00:00Z</td>\n",
              "    </tr>\n",
              "    <tr>\n",
              "      <th>11261</th>\n",
              "      <td>United States of America</td>\n",
              "      <td>US</td>\n",
              "      <td>Illinois</td>\n",
              "      <td>Cook</td>\n",
              "      <td>17031</td>\n",
              "      <td>41.84</td>\n",
              "      <td>-87.82</td>\n",
              "      <td>1</td>\n",
              "      <td>confirmed</td>\n",
              "      <td>2020-01-25T00:00:00Z</td>\n",
              "    </tr>\n",
              "  </tbody>\n",
              "</table>\n",
              "</div>"
            ],
            "text/plain": [
              "                        Country CountryCode  ...     Status                  Date\n",
              "4901   United States of America          US  ...  confirmed  2020-01-23T00:00:00Z\n",
              "7465   United States of America          US  ...  confirmed  2020-01-24T00:00:00Z\n",
              "9610   United States of America          US  ...  confirmed  2020-01-24T00:00:00Z\n",
              "9874   United States of America          US  ...  confirmed  2020-01-25T00:00:00Z\n",
              "11261  United States of America          US  ...  confirmed  2020-01-25T00:00:00Z\n",
              "\n",
              "[5 rows x 10 columns]"
            ]
          },
          "metadata": {
            "tags": []
          },
          "execution_count": 7
        }
      ]
    },
    {
      "cell_type": "code",
      "metadata": {
        "id": "4Io8FrdNuMLN",
        "colab_type": "code",
        "outputId": "a320936d-906c-47a8-9d5a-548f8910f5b9",
        "colab": {
          "base_uri": "https://localhost:8080/",
          "height": 277
        }
      },
      "source": [
        "# clean up the data.\n",
        "\n",
        "# drop any latitude with 0.\n",
        "df.drop(df[df['Lat'] == '0'].index, inplace = True)\n",
        "# strip the minutes & seconds from the Date column.\n",
        "df['Date'] = df['Date'].str.replace(r'T00:00:00Z', '').astype(object)\n",
        "# change the data types of Lat & Lon to floats.\n",
        "df = df.astype({'Lat': float})\n",
        "df = df.astype({'Lon': float})"
      ],
      "execution_count": 0,
      "outputs": [
        {
          "output_type": "stream",
          "text": [
            "/usr/local/lib/python3.6/dist-packages/pandas/core/frame.py:3997: SettingWithCopyWarning:\n",
            "\n",
            "\n",
            "A value is trying to be set on a copy of a slice from a DataFrame\n",
            "\n",
            "See the caveats in the documentation: https://pandas.pydata.org/pandas-docs/stable/user_guide/indexing.html#returning-a-view-versus-a-copy\n",
            "\n",
            "/usr/local/lib/python3.6/dist-packages/ipykernel_launcher.py:2: SettingWithCopyWarning:\n",
            "\n",
            "\n",
            "A value is trying to be set on a copy of a slice from a DataFrame.\n",
            "Try using .loc[row_indexer,col_indexer] = value instead\n",
            "\n",
            "See the caveats in the documentation: https://pandas.pydata.org/pandas-docs/stable/user_guide/indexing.html#returning-a-view-versus-a-copy\n",
            "\n"
          ],
          "name": "stderr"
        }
      ]
    },
    {
      "cell_type": "code",
      "metadata": {
        "id": "vAIMRVtCaSHs",
        "colab_type": "code",
        "outputId": "2e32ca40-e426-485b-f272-b249de1b139b",
        "colab": {
          "base_uri": "https://localhost:8080/",
          "height": 220
        }
      },
      "source": [
        "# final data frame.\n",
        "\n",
        "# show the data frame shape.\n",
        "print(df.shape)\n",
        "# show the data frame with headers.\n",
        "df.head()"
      ],
      "execution_count": 0,
      "outputs": [
        {
          "output_type": "stream",
          "text": [
            "(270815, 10)\n"
          ],
          "name": "stdout"
        },
        {
          "output_type": "execute_result",
          "data": {
            "text/html": [
              "<div>\n",
              "<style scoped>\n",
              "    .dataframe tbody tr th:only-of-type {\n",
              "        vertical-align: middle;\n",
              "    }\n",
              "\n",
              "    .dataframe tbody tr th {\n",
              "        vertical-align: top;\n",
              "    }\n",
              "\n",
              "    .dataframe thead th {\n",
              "        text-align: right;\n",
              "    }\n",
              "</style>\n",
              "<table border=\"1\" class=\"dataframe\">\n",
              "  <thead>\n",
              "    <tr style=\"text-align: right;\">\n",
              "      <th></th>\n",
              "      <th>Country</th>\n",
              "      <th>CountryCode</th>\n",
              "      <th>Province</th>\n",
              "      <th>City</th>\n",
              "      <th>CityCode</th>\n",
              "      <th>Lat</th>\n",
              "      <th>Lon</th>\n",
              "      <th>Cases</th>\n",
              "      <th>Status</th>\n",
              "      <th>Date</th>\n",
              "    </tr>\n",
              "  </thead>\n",
              "  <tbody>\n",
              "    <tr>\n",
              "      <th>0</th>\n",
              "      <td>United States of America</td>\n",
              "      <td>US</td>\n",
              "      <td>Wyoming</td>\n",
              "      <td>Uinta</td>\n",
              "      <td>56041</td>\n",
              "      <td>41.29</td>\n",
              "      <td>-110.55</td>\n",
              "      <td>0</td>\n",
              "      <td>confirmed</td>\n",
              "      <td>2020-01-22</td>\n",
              "    </tr>\n",
              "    <tr>\n",
              "      <th>2</th>\n",
              "      <td>United States of America</td>\n",
              "      <td>US</td>\n",
              "      <td>Wyoming</td>\n",
              "      <td>Washakie</td>\n",
              "      <td>56043</td>\n",
              "      <td>43.90</td>\n",
              "      <td>-107.68</td>\n",
              "      <td>0</td>\n",
              "      <td>confirmed</td>\n",
              "      <td>2020-01-22</td>\n",
              "    </tr>\n",
              "    <tr>\n",
              "      <th>3</th>\n",
              "      <td>United States of America</td>\n",
              "      <td>US</td>\n",
              "      <td>Wyoming</td>\n",
              "      <td>Weston</td>\n",
              "      <td>56045</td>\n",
              "      <td>43.84</td>\n",
              "      <td>-104.57</td>\n",
              "      <td>0</td>\n",
              "      <td>confirmed</td>\n",
              "      <td>2020-01-22</td>\n",
              "    </tr>\n",
              "    <tr>\n",
              "      <th>4</th>\n",
              "      <td>United States of America</td>\n",
              "      <td>US</td>\n",
              "      <td>Wyoming</td>\n",
              "      <td>Laramie</td>\n",
              "      <td>56021</td>\n",
              "      <td>41.31</td>\n",
              "      <td>-104.69</td>\n",
              "      <td>0</td>\n",
              "      <td>confirmed</td>\n",
              "      <td>2020-01-22</td>\n",
              "    </tr>\n",
              "    <tr>\n",
              "      <th>5</th>\n",
              "      <td>United States of America</td>\n",
              "      <td>US</td>\n",
              "      <td>Wyoming</td>\n",
              "      <td>Lincoln</td>\n",
              "      <td>56023</td>\n",
              "      <td>42.26</td>\n",
              "      <td>-110.66</td>\n",
              "      <td>0</td>\n",
              "      <td>confirmed</td>\n",
              "      <td>2020-01-22</td>\n",
              "    </tr>\n",
              "  </tbody>\n",
              "</table>\n",
              "</div>"
            ],
            "text/plain": [
              "                    Country CountryCode Province  ... Cases     Status        Date\n",
              "0  United States of America          US  Wyoming  ...     0  confirmed  2020-01-22\n",
              "2  United States of America          US  Wyoming  ...     0  confirmed  2020-01-22\n",
              "3  United States of America          US  Wyoming  ...     0  confirmed  2020-01-22\n",
              "4  United States of America          US  Wyoming  ...     0  confirmed  2020-01-22\n",
              "5  United States of America          US  Wyoming  ...     0  confirmed  2020-01-22\n",
              "\n",
              "[5 rows x 10 columns]"
            ]
          },
          "metadata": {
            "tags": []
          },
          "execution_count": 15
        }
      ]
    },
    {
      "cell_type": "code",
      "metadata": {
        "id": "ymEByISLlN0N",
        "colab_type": "code",
        "colab": {}
      },
      "source": [
        "# set the mapbox style and access token.\n",
        "\n",
        "''' style url '''\n",
        "MAPBOX_STYLE = 'mapbox://styles/cvanchieri/ck922oal90bxw1ilzl8opoz7d'\n",
        "''' access token '''\n",
        "MAPBOX_TOKEN = 'pk.eyJ1IjoiY3ZhbmNoaWVyaSIsImEiOiJjazkwcTM3bGwwNGU4M2hucGYxNmkydGFzIn0.sDsBLsY2hw-6LPjKzL2ZqA'"
      ],
      "execution_count": 0,
      "outputs": []
    },
    {
      "cell_type": "code",
      "metadata": {
        "id": "P4beLQQsldlb",
        "colab_type": "code",
        "colab": {}
      },
      "source": [
        "# create the times and frames_data.\n",
        "times = df.groupby(['Date'])['Date'].count().index.tolist()\n",
        "frames_data = [df.loc[df['Date'] == t] for t in times]"
      ],
      "execution_count": 0,
      "outputs": []
    },
    {
      "cell_type": "code",
      "metadata": {
        "id": "is709T6Dlg1P",
        "colab_type": "code",
        "colab": {}
      },
      "source": [
        "# create the frames density plot.\n",
        "frames = [go.Frame(data=[go.Densitymapbox(lat=f['Lat'], lon=f['Lon'], z=f['Cases'], radius=10)], name=str(f.iloc[0]['Date'])) for f in frames_data]"
      ],
      "execution_count": 0,
      "outputs": []
    },
    {
      "cell_type": "code",
      "metadata": {
        "id": "FRkUoVfbljCd",
        "colab_type": "code",
        "colab": {}
      },
      "source": [
        "# create the mapbox attributes, play and pause button.\n",
        "buttons=[\n",
        "         dict(label=\"Play\",method=\"animate\",args=[None, {'fromcurrent':True, \"transition\": {\"duration\": 1, \"easing\": \"quadratic-in-out\"}}]),\n",
        "         dict(label=\"Pause\",method=\"animate\",args=[[None], {\"frame\": {\"duration\": 0, \"redraw\": False},\"mode\": \"immediate\", \"transition\": {\"duration\": 0}}])\n",
        "]\n",
        "sliders_dict = {\n",
        "    'active':0,\n",
        "    'currentvalue': dict(font=dict(size=15), prefix='Date: ', visible=True),\n",
        "    \"transition\": {\"duration\": 300, \"easing\": \"cubic-in-out\"},\n",
        "    'x': 0,\n",
        "    'steps': []\n",
        "}\n",
        "for i,t in enumerate(times):\n",
        "    slider_step = {\"args\": [\n",
        "                        [t],\n",
        "                        {\"frame\": {\"duration\": 300, \"redraw\": False},\n",
        "                         #\"mode\": \"immediate\",\n",
        "                         \"transition\": {\"duration\": 1, \"ease\": \"quadratic-in-out\"}}\n",
        "                    ],\n",
        "            \"label\": t,\n",
        "            \"method\": \"animate\",\n",
        "            \"value\": t\n",
        "    }\n",
        "    sliders_dict['steps'].append(slider_step)"
      ],
      "execution_count": 0,
      "outputs": []
    },
    {
      "cell_type": "code",
      "metadata": {
        "id": "AxQV29bilk4U",
        "colab_type": "code",
        "colab": {}
      },
      "source": [
        "# merge the mapbox and the data together and display.\n",
        "fig = go.Figure(data = [go.Densitymapbox(lat=df['Lat'], lon=df['Lon'], z=df['Cases'], radius=5, colorscale='hot', zmax=5, zmin=0)],\n",
        "               layout=go.Layout(updatemenus=[dict(type=\"buttons\", buttons=buttons,showactive=True)] ), \n",
        "               frames=frames\n",
        ")\n",
        "fig.update_layout(mapbox_style=MAPBOX_STYLE, \n",
        "                  mapbox_accesstoken=MAPBOX_TOKEN,\n",
        "                  mapbox_center_lon=-100,\n",
        "                  mapbox_center_lat=38,\n",
        "                  mapbox_zoom=3.5)\n",
        "fig.update_layout(sliders=[sliders_dict],\n",
        "                 title='USA Covid-19 Confirmed Cases Daily Count')\n",
        "fig.update_layout(height=1000)\n",
        "fig.show()"
      ],
      "execution_count": 0,
      "outputs": []
    },
    {
      "cell_type": "markdown",
      "metadata": {
        "id": "5bG62WVzu81K",
        "colab_type": "text"
      },
      "source": [
        "![Covid19MapBox](https://github.com/CVanchieri/CVanchieri.github.io/blob/master/img/Covid19ConfirmedMapBoxPost/Covid19ConfirmedMapBox.png?raw=true)\n",
        "\n"
      ]
    }
  ]
}