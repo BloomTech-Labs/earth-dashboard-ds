{
  "nbformat": 4,
  "nbformat_minor": 0,
  "metadata": {
    "colab": {
      "name": "COVID19DataAPI_DataVis4_CV.ipynb",
      "provenance": [],
      "collapsed_sections": []
    },
    "kernelspec": {
      "name": "python3",
      "display_name": "Python 3"
    }
  },
  "cells": [
    {
      "cell_type": "markdown",
      "metadata": {
        "id": "UWQY4dOFuwEC",
        "colab_type": "text"
      },
      "source": [
        "# COVID-19 Data (API).\n",
        "### COVID-19 World Data.\n",
        "[site](https://covid19api.com/) | [API info](https://documenter.getpostman.com/view/10808728/SzS8rjbc?version=latest)\n",
        "\n"
      ]
    },
    {
      "cell_type": "code",
      "metadata": {
        "id": "oZm6OLzp5-Hk",
        "colab_type": "code",
        "colab": {}
      },
      "source": [
        "# necessary imports for notebook.\n",
        "import pandas as pd\n",
        "import numpy as np\n",
        "import requests\n",
        "import json\n",
        "import datetime as dt\n",
        "from datetime import datetime\n",
        "import matplotlib.pyplot as plt\n",
        "import matplotlib.ticker as ticker\n",
        "import matplotlib.animation as animation\n",
        "from IPython.display import HTML"
      ],
      "execution_count": 0,
      "outputs": []
    },
    {
      "cell_type": "code",
      "metadata": {
        "id": "JK-ljUuGpd2h",
        "colab_type": "code",
        "outputId": "96b0811d-dbf1-496d-fdc8-0ed3ef047635",
        "colab": {
          "base_uri": "https://localhost:8080/",
          "height": 238
        }
      },
      "source": [
        "''' COVID-19 : Countries Daily Summary Total'''\n",
        "# COVID-19 Data.\n",
        "'''https://covid19api.com/'''\n",
        "'''https://documenter.getpostman.com/view/10808728/SzS8rjbc?version=latest'''\n",
        "response = requests.get(\"https://api.covid19api.com/all\")\n",
        "# show the status code.\n",
        "print(response.status_code)\n",
        "covid_cs = response.json()\n",
        "covid_countriessummary = pd.json_normalize(covid_cs)\n",
        "# show the data frame shape.\n",
        "print(covid_countriessummary.shape)\n",
        "# show the data frame with headers.\n",
        "covid_countriessummary.head()"
      ],
      "execution_count": 2,
      "outputs": [
        {
          "output_type": "stream",
          "text": [
            "200\n",
            "(393680, 12)\n"
          ],
          "name": "stdout"
        },
        {
          "output_type": "execute_result",
          "data": {
            "text/html": [
              "<div>\n",
              "<style scoped>\n",
              "    .dataframe tbody tr th:only-of-type {\n",
              "        vertical-align: middle;\n",
              "    }\n",
              "\n",
              "    .dataframe tbody tr th {\n",
              "        vertical-align: top;\n",
              "    }\n",
              "\n",
              "    .dataframe thead th {\n",
              "        text-align: right;\n",
              "    }\n",
              "</style>\n",
              "<table border=\"1\" class=\"dataframe\">\n",
              "  <thead>\n",
              "    <tr style=\"text-align: right;\">\n",
              "      <th></th>\n",
              "      <th>Country</th>\n",
              "      <th>CountryCode</th>\n",
              "      <th>Province</th>\n",
              "      <th>City</th>\n",
              "      <th>CityCode</th>\n",
              "      <th>Lat</th>\n",
              "      <th>Lon</th>\n",
              "      <th>Confirmed</th>\n",
              "      <th>Deaths</th>\n",
              "      <th>Recovered</th>\n",
              "      <th>Active</th>\n",
              "      <th>Date</th>\n",
              "    </tr>\n",
              "  </thead>\n",
              "  <tbody>\n",
              "    <tr>\n",
              "      <th>0</th>\n",
              "      <td>Afghanistan</td>\n",
              "      <td>AF</td>\n",
              "      <td></td>\n",
              "      <td></td>\n",
              "      <td></td>\n",
              "      <td>33.94</td>\n",
              "      <td>67.71</td>\n",
              "      <td>0</td>\n",
              "      <td>0</td>\n",
              "      <td>0</td>\n",
              "      <td>0</td>\n",
              "      <td>2020-01-22T00:00:00Z</td>\n",
              "    </tr>\n",
              "    <tr>\n",
              "      <th>1</th>\n",
              "      <td>Afghanistan</td>\n",
              "      <td>AF</td>\n",
              "      <td></td>\n",
              "      <td></td>\n",
              "      <td></td>\n",
              "      <td>33.94</td>\n",
              "      <td>67.71</td>\n",
              "      <td>0</td>\n",
              "      <td>0</td>\n",
              "      <td>0</td>\n",
              "      <td>0</td>\n",
              "      <td>2020-01-23T00:00:00Z</td>\n",
              "    </tr>\n",
              "    <tr>\n",
              "      <th>2</th>\n",
              "      <td>Afghanistan</td>\n",
              "      <td>AF</td>\n",
              "      <td></td>\n",
              "      <td></td>\n",
              "      <td></td>\n",
              "      <td>33.94</td>\n",
              "      <td>67.71</td>\n",
              "      <td>0</td>\n",
              "      <td>0</td>\n",
              "      <td>0</td>\n",
              "      <td>0</td>\n",
              "      <td>2020-01-24T00:00:00Z</td>\n",
              "    </tr>\n",
              "    <tr>\n",
              "      <th>3</th>\n",
              "      <td>Afghanistan</td>\n",
              "      <td>AF</td>\n",
              "      <td></td>\n",
              "      <td></td>\n",
              "      <td></td>\n",
              "      <td>33.94</td>\n",
              "      <td>67.71</td>\n",
              "      <td>0</td>\n",
              "      <td>0</td>\n",
              "      <td>0</td>\n",
              "      <td>0</td>\n",
              "      <td>2020-01-25T00:00:00Z</td>\n",
              "    </tr>\n",
              "    <tr>\n",
              "      <th>4</th>\n",
              "      <td>Afghanistan</td>\n",
              "      <td>AF</td>\n",
              "      <td></td>\n",
              "      <td></td>\n",
              "      <td></td>\n",
              "      <td>33.94</td>\n",
              "      <td>67.71</td>\n",
              "      <td>0</td>\n",
              "      <td>0</td>\n",
              "      <td>0</td>\n",
              "      <td>0</td>\n",
              "      <td>2020-01-26T00:00:00Z</td>\n",
              "    </tr>\n",
              "  </tbody>\n",
              "</table>\n",
              "</div>"
            ],
            "text/plain": [
              "       Country CountryCode Province  ... Recovered Active                  Date\n",
              "0  Afghanistan          AF           ...         0      0  2020-01-22T00:00:00Z\n",
              "1  Afghanistan          AF           ...         0      0  2020-01-23T00:00:00Z\n",
              "2  Afghanistan          AF           ...         0      0  2020-01-24T00:00:00Z\n",
              "3  Afghanistan          AF           ...         0      0  2020-01-25T00:00:00Z\n",
              "4  Afghanistan          AF           ...         0      0  2020-01-26T00:00:00Z\n",
              "\n",
              "[5 rows x 12 columns]"
            ]
          },
          "metadata": {
            "tags": []
          },
          "execution_count": 2
        }
      ]
    },
    {
      "cell_type": "code",
      "metadata": {
        "id": "MhNnXUnuUArE",
        "colab_type": "code",
        "colab": {}
      },
      "source": [
        "# new data frame.\n",
        "df = covid_countriessummary.copy()"
      ],
      "execution_count": 0,
      "outputs": []
    },
    {
      "cell_type": "code",
      "metadata": {
        "id": "ACt0zJ7NT_5k",
        "colab_type": "code",
        "colab": {}
      },
      "source": [
        "# clean up the data.\n",
        "df['Date'] = df['Date'].str[:10]\n",
        "df = df.rename(columns={\"CountryCode\": \"Code\"})\n",
        "df = df[['Date', 'Country', 'Province', 'Code', 'Confirmed', 'Recovered', 'Deaths']]\n",
        "df = df.groupby(['Date', 'Country', 'Code', 'Province']).agg({'Confirmed': 'sum', 'Deaths': 'sum', 'Recovered': 'sum'}).reset_index()\n",
        "df = df.drop(df[(df.Country == 'United States of America') & (df.Province == '')].index)\n",
        "df = df.groupby(['Date', 'Country', 'Code']).agg({'Confirmed': 'sum', 'Deaths': 'sum', 'Recovered': 'sum'}).reset_index()"
      ],
      "execution_count": 0,
      "outputs": []
    },
    {
      "cell_type": "code",
      "metadata": {
        "id": "j3DS3MhKxmFo",
        "colab_type": "code",
        "outputId": "eceea68a-3298-4419-b12c-0a91e4403b91",
        "colab": {
          "base_uri": "https://localhost:8080/",
          "height": 221
        }
      },
      "source": [
        "# show the data frame shape.\n",
        "print(df.shape)\n",
        "# show the data frame with headers.\n",
        "df.head()"
      ],
      "execution_count": 5,
      "outputs": [
        {
          "output_type": "stream",
          "text": [
            "(20720, 6)\n"
          ],
          "name": "stdout"
        },
        {
          "output_type": "execute_result",
          "data": {
            "text/html": [
              "<div>\n",
              "<style scoped>\n",
              "    .dataframe tbody tr th:only-of-type {\n",
              "        vertical-align: middle;\n",
              "    }\n",
              "\n",
              "    .dataframe tbody tr th {\n",
              "        vertical-align: top;\n",
              "    }\n",
              "\n",
              "    .dataframe thead th {\n",
              "        text-align: right;\n",
              "    }\n",
              "</style>\n",
              "<table border=\"1\" class=\"dataframe\">\n",
              "  <thead>\n",
              "    <tr style=\"text-align: right;\">\n",
              "      <th></th>\n",
              "      <th>Date</th>\n",
              "      <th>Country</th>\n",
              "      <th>Code</th>\n",
              "      <th>Confirmed</th>\n",
              "      <th>Deaths</th>\n",
              "      <th>Recovered</th>\n",
              "    </tr>\n",
              "  </thead>\n",
              "  <tbody>\n",
              "    <tr>\n",
              "      <th>0</th>\n",
              "      <td>2020-01-22</td>\n",
              "      <td>Afghanistan</td>\n",
              "      <td>AF</td>\n",
              "      <td>0</td>\n",
              "      <td>0</td>\n",
              "      <td>0</td>\n",
              "    </tr>\n",
              "    <tr>\n",
              "      <th>1</th>\n",
              "      <td>2020-01-22</td>\n",
              "      <td>Albania</td>\n",
              "      <td>AL</td>\n",
              "      <td>0</td>\n",
              "      <td>0</td>\n",
              "      <td>0</td>\n",
              "    </tr>\n",
              "    <tr>\n",
              "      <th>2</th>\n",
              "      <td>2020-01-22</td>\n",
              "      <td>Algeria</td>\n",
              "      <td>DZ</td>\n",
              "      <td>0</td>\n",
              "      <td>0</td>\n",
              "      <td>0</td>\n",
              "    </tr>\n",
              "    <tr>\n",
              "      <th>3</th>\n",
              "      <td>2020-01-22</td>\n",
              "      <td>Andorra</td>\n",
              "      <td>AD</td>\n",
              "      <td>0</td>\n",
              "      <td>0</td>\n",
              "      <td>0</td>\n",
              "    </tr>\n",
              "    <tr>\n",
              "      <th>4</th>\n",
              "      <td>2020-01-22</td>\n",
              "      <td>Angola</td>\n",
              "      <td>AO</td>\n",
              "      <td>0</td>\n",
              "      <td>0</td>\n",
              "      <td>0</td>\n",
              "    </tr>\n",
              "  </tbody>\n",
              "</table>\n",
              "</div>"
            ],
            "text/plain": [
              "         Date      Country Code  Confirmed  Deaths  Recovered\n",
              "0  2020-01-22  Afghanistan   AF          0       0          0\n",
              "1  2020-01-22      Albania   AL          0       0          0\n",
              "2  2020-01-22      Algeria   DZ          0       0          0\n",
              "3  2020-01-22      Andorra   AD          0       0          0\n",
              "4  2020-01-22       Angola   AO          0       0          0"
            ]
          },
          "metadata": {
            "tags": []
          },
          "execution_count": 5
        }
      ]
    },
    {
      "cell_type": "code",
      "metadata": {
        "id": "EvZrEPrRcKLE",
        "colab_type": "code",
        "outputId": "db1711cd-886b-48a8-a225-af2076b7d8ad",
        "colab": {
          "base_uri": "https://localhost:8080/",
          "height": 34
        }
      },
      "source": [
        "# set yesterdays date.\n",
        "yesterday = df['Date'].iloc[-1]\n",
        "# data frame of the countries with the highest totals.\n",
        "df1 = (df[df['Date'].eq(yesterday)].sort_values(by='Deaths', ascending=False).head(20))\n",
        "# show the date for yesterday.\n",
        "print(yesterday)"
      ],
      "execution_count": 6,
      "outputs": [
        {
          "output_type": "stream",
          "text": [
            "2020-05-12\n"
          ],
          "name": "stdout"
        }
      ]
    },
    {
      "cell_type": "code",
      "metadata": {
        "id": "1hR1vPDCxWIC",
        "colab_type": "code",
        "outputId": "5f62133c-7590-45d9-92cd-67d43976bb27",
        "colab": {
          "base_uri": "https://localhost:8080/",
          "height": 686
        }
      },
      "source": [
        "# top 20 countries.\n",
        "countries = df1['Country'].unique()\n",
        "# filter data frame with top 20 countries.\n",
        "df = df[df['Country'].isin(countries)]\n",
        "# show the data frame shape.\n",
        "print(df.shape)\n",
        "# show the data frame headers\n",
        "df.head(20)"
      ],
      "execution_count": 7,
      "outputs": [
        {
          "output_type": "stream",
          "text": [
            "(2240, 6)\n"
          ],
          "name": "stdout"
        },
        {
          "output_type": "execute_result",
          "data": {
            "text/html": [
              "<div>\n",
              "<style scoped>\n",
              "    .dataframe tbody tr th:only-of-type {\n",
              "        vertical-align: middle;\n",
              "    }\n",
              "\n",
              "    .dataframe tbody tr th {\n",
              "        vertical-align: top;\n",
              "    }\n",
              "\n",
              "    .dataframe thead th {\n",
              "        text-align: right;\n",
              "    }\n",
              "</style>\n",
              "<table border=\"1\" class=\"dataframe\">\n",
              "  <thead>\n",
              "    <tr style=\"text-align: right;\">\n",
              "      <th></th>\n",
              "      <th>Date</th>\n",
              "      <th>Country</th>\n",
              "      <th>Code</th>\n",
              "      <th>Confirmed</th>\n",
              "      <th>Deaths</th>\n",
              "      <th>Recovered</th>\n",
              "    </tr>\n",
              "  </thead>\n",
              "  <tbody>\n",
              "    <tr>\n",
              "      <th>16</th>\n",
              "      <td>2020-01-22</td>\n",
              "      <td>Belgium</td>\n",
              "      <td>BE</td>\n",
              "      <td>0</td>\n",
              "      <td>0</td>\n",
              "      <td>0</td>\n",
              "    </tr>\n",
              "    <tr>\n",
              "      <th>23</th>\n",
              "      <td>2020-01-22</td>\n",
              "      <td>Brazil</td>\n",
              "      <td>BR</td>\n",
              "      <td>0</td>\n",
              "      <td>0</td>\n",
              "      <td>0</td>\n",
              "    </tr>\n",
              "    <tr>\n",
              "      <th>30</th>\n",
              "      <td>2020-01-22</td>\n",
              "      <td>Canada</td>\n",
              "      <td>CA</td>\n",
              "      <td>0</td>\n",
              "      <td>0</td>\n",
              "      <td>0</td>\n",
              "    </tr>\n",
              "    <tr>\n",
              "      <th>35</th>\n",
              "      <td>2020-01-22</td>\n",
              "      <td>China</td>\n",
              "      <td>CN</td>\n",
              "      <td>548</td>\n",
              "      <td>17</td>\n",
              "      <td>28</td>\n",
              "    </tr>\n",
              "    <tr>\n",
              "      <th>50</th>\n",
              "      <td>2020-01-22</td>\n",
              "      <td>Ecuador</td>\n",
              "      <td>EC</td>\n",
              "      <td>0</td>\n",
              "      <td>0</td>\n",
              "      <td>0</td>\n",
              "    </tr>\n",
              "    <tr>\n",
              "      <th>59</th>\n",
              "      <td>2020-01-22</td>\n",
              "      <td>France</td>\n",
              "      <td>FR</td>\n",
              "      <td>0</td>\n",
              "      <td>0</td>\n",
              "      <td>0</td>\n",
              "    </tr>\n",
              "    <tr>\n",
              "      <th>63</th>\n",
              "      <td>2020-01-22</td>\n",
              "      <td>Germany</td>\n",
              "      <td>DE</td>\n",
              "      <td>0</td>\n",
              "      <td>0</td>\n",
              "      <td>0</td>\n",
              "    </tr>\n",
              "    <tr>\n",
              "      <th>76</th>\n",
              "      <td>2020-01-22</td>\n",
              "      <td>India</td>\n",
              "      <td>IN</td>\n",
              "      <td>0</td>\n",
              "      <td>0</td>\n",
              "      <td>0</td>\n",
              "    </tr>\n",
              "    <tr>\n",
              "      <th>78</th>\n",
              "      <td>2020-01-22</td>\n",
              "      <td>Iran, Islamic Republic of</td>\n",
              "      <td>IR</td>\n",
              "      <td>0</td>\n",
              "      <td>0</td>\n",
              "      <td>0</td>\n",
              "    </tr>\n",
              "    <tr>\n",
              "      <th>82</th>\n",
              "      <td>2020-01-22</td>\n",
              "      <td>Italy</td>\n",
              "      <td>IT</td>\n",
              "      <td>0</td>\n",
              "      <td>0</td>\n",
              "      <td>0</td>\n",
              "    </tr>\n",
              "    <tr>\n",
              "      <th>108</th>\n",
              "      <td>2020-01-22</td>\n",
              "      <td>Mexico</td>\n",
              "      <td>MX</td>\n",
              "      <td>0</td>\n",
              "      <td>0</td>\n",
              "      <td>0</td>\n",
              "    </tr>\n",
              "    <tr>\n",
              "      <th>118</th>\n",
              "      <td>2020-01-22</td>\n",
              "      <td>Netherlands</td>\n",
              "      <td>NL</td>\n",
              "      <td>0</td>\n",
              "      <td>0</td>\n",
              "      <td>0</td>\n",
              "    </tr>\n",
              "    <tr>\n",
              "      <th>130</th>\n",
              "      <td>2020-01-22</td>\n",
              "      <td>Peru</td>\n",
              "      <td>PE</td>\n",
              "      <td>0</td>\n",
              "      <td>0</td>\n",
              "      <td>0</td>\n",
              "    </tr>\n",
              "    <tr>\n",
              "      <th>137</th>\n",
              "      <td>2020-01-22</td>\n",
              "      <td>Russian Federation</td>\n",
              "      <td>RU</td>\n",
              "      <td>0</td>\n",
              "      <td>0</td>\n",
              "      <td>0</td>\n",
              "    </tr>\n",
              "    <tr>\n",
              "      <th>155</th>\n",
              "      <td>2020-01-22</td>\n",
              "      <td>Spain</td>\n",
              "      <td>ES</td>\n",
              "      <td>0</td>\n",
              "      <td>0</td>\n",
              "      <td>0</td>\n",
              "    </tr>\n",
              "    <tr>\n",
              "      <th>160</th>\n",
              "      <td>2020-01-22</td>\n",
              "      <td>Sweden</td>\n",
              "      <td>SE</td>\n",
              "      <td>0</td>\n",
              "      <td>0</td>\n",
              "      <td>0</td>\n",
              "    </tr>\n",
              "    <tr>\n",
              "      <th>161</th>\n",
              "      <td>2020-01-22</td>\n",
              "      <td>Switzerland</td>\n",
              "      <td>CH</td>\n",
              "      <td>0</td>\n",
              "      <td>0</td>\n",
              "      <td>0</td>\n",
              "    </tr>\n",
              "    <tr>\n",
              "      <th>171</th>\n",
              "      <td>2020-01-22</td>\n",
              "      <td>Turkey</td>\n",
              "      <td>TR</td>\n",
              "      <td>0</td>\n",
              "      <td>0</td>\n",
              "      <td>0</td>\n",
              "    </tr>\n",
              "    <tr>\n",
              "      <th>175</th>\n",
              "      <td>2020-01-22</td>\n",
              "      <td>United Kingdom</td>\n",
              "      <td>GB</td>\n",
              "      <td>0</td>\n",
              "      <td>0</td>\n",
              "      <td>0</td>\n",
              "    </tr>\n",
              "    <tr>\n",
              "      <th>176</th>\n",
              "      <td>2020-01-22</td>\n",
              "      <td>United States of America</td>\n",
              "      <td>US</td>\n",
              "      <td>0</td>\n",
              "      <td>0</td>\n",
              "      <td>0</td>\n",
              "    </tr>\n",
              "  </tbody>\n",
              "</table>\n",
              "</div>"
            ],
            "text/plain": [
              "           Date                    Country Code  Confirmed  Deaths  Recovered\n",
              "16   2020-01-22                    Belgium   BE          0       0          0\n",
              "23   2020-01-22                     Brazil   BR          0       0          0\n",
              "30   2020-01-22                     Canada   CA          0       0          0\n",
              "35   2020-01-22                      China   CN        548      17         28\n",
              "50   2020-01-22                    Ecuador   EC          0       0          0\n",
              "59   2020-01-22                     France   FR          0       0          0\n",
              "63   2020-01-22                    Germany   DE          0       0          0\n",
              "76   2020-01-22                      India   IN          0       0          0\n",
              "78   2020-01-22  Iran, Islamic Republic of   IR          0       0          0\n",
              "82   2020-01-22                      Italy   IT          0       0          0\n",
              "108  2020-01-22                     Mexico   MX          0       0          0\n",
              "118  2020-01-22                Netherlands   NL          0       0          0\n",
              "130  2020-01-22                       Peru   PE          0       0          0\n",
              "137  2020-01-22         Russian Federation   RU          0       0          0\n",
              "155  2020-01-22                      Spain   ES          0       0          0\n",
              "160  2020-01-22                     Sweden   SE          0       0          0\n",
              "161  2020-01-22                Switzerland   CH          0       0          0\n",
              "171  2020-01-22                     Turkey   TR          0       0          0\n",
              "175  2020-01-22             United Kingdom   GB          0       0          0\n",
              "176  2020-01-22   United States of America   US          0       0          0"
            ]
          },
          "metadata": {
            "tags": []
          },
          "execution_count": 7
        }
      ]
    },
    {
      "cell_type": "code",
      "metadata": {
        "id": "p4_YxGJuWa0l",
        "colab_type": "code",
        "outputId": "d9dbb3f7-f072-4968-d408-bcd28339d791",
        "colab": {
          "base_uri": "https://localhost:8080/",
          "height": 717
        }
      },
      "source": [
        "# show bar chart of top 20 countries and the count from yesterday.\n",
        "fig, ax = plt.subplots(figsize=(20, 12))\n",
        "ax.barh(df1['Country'], df1['Deaths'])"
      ],
      "execution_count": 8,
      "outputs": [
        {
          "output_type": "execute_result",
          "data": {
            "text/plain": [
              "<BarContainer object of 20 artists>"
            ]
          },
          "metadata": {
            "tags": []
          },
          "execution_count": 8
        },
        {
          "output_type": "display_data",
          "data": {
            "image/png": "[encoded data removed]",
            "text/plain": [
              "<Figure size 1440x864 with 1 Axes>"
            ]
          },
          "metadata": {
            "tags": [],
            "needs_background": "light"
          }
        }
      ]
    },
    {
      "cell_type": "code",
      "metadata": {
        "id": "5P5N5jV6UhIu",
        "colab_type": "code",
        "outputId": "6d399eaf-1738-409d-867e-b5f6938803a9",
        "colab": {
          "base_uri": "https://localhost:8080/",
          "height": 71
        }
      },
      "source": [
        "# set the coutry codes to a list.\n",
        "countrycodes = df1['Code'].to_list()\n",
        "# set colors to the list.\n",
        "colors = dict(zip(\n",
        "    (countrycodes),\n",
        "    [\"#2f61eb\", \"#ffb3ff\", \"#90d595\", \"#e48381\", \"#aafbff\",\n",
        "     \"#3feb2f\", \"#f01b0c\", \"#aabbf2\", \"#de16ac\", \"#a36794\", \n",
        "     \"#8adbac\", \"#eef20c\", \"#ebcc8a\", \"#e48381\", \"#f26e0a\", \n",
        "     \"#0f5c2f\", \"#c79322\", \"#ebb48a\", \"#f28d7e\", \"#ab3422\",\n",
        "     \"#b2de83\"]\n",
        "    ))\n",
        "# set index to dict.\n",
        "group_lk = df1.set_index('Country')['Code'].to_dict()\n",
        "# show the colors.\n",
        "print(colors)\n",
        "# show the group.\n",
        "print(group_lk)"
      ],
      "execution_count": 9,
      "outputs": [
        {
          "output_type": "stream",
          "text": [
            "{'US': '#2f61eb', 'GB': '#ffb3ff', 'IT': '#90d595', 'FR': '#e48381', 'ES': '#aafbff', 'BR': '#3feb2f', 'CA': '#f01b0c', 'BE': '#aabbf2', 'DE': '#de16ac', 'IR': '#a36794', 'NL': '#8adbac', 'CN': '#eef20c', 'MX': '#ebcc8a', 'TR': '#e48381', 'SE': '#f26e0a', 'IN': '#0f5c2f', 'EC': '#c79322', 'RU': '#ebb48a', 'PE': '#f28d7e', 'CH': '#ab3422'}\n",
            "{'United States of America': 'US', 'United Kingdom': 'GB', 'Italy': 'IT', 'France': 'FR', 'Spain': 'ES', 'Brazil': 'BR', 'Canada': 'CA', 'Belgium': 'BE', 'Germany': 'DE', 'Iran, Islamic Republic of': 'IR', 'Netherlands': 'NL', 'China': 'CN', 'Mexico': 'MX', 'Turkey': 'TR', 'Sweden': 'SE', 'India': 'IN', 'Ecuador': 'EC', 'Russian Federation': 'RU', 'Peru': 'PE', 'Switzerland': 'CH'}\n"
          ],
          "name": "stdout"
        }
      ]
    },
    {
      "cell_type": "code",
      "metadata": {
        "id": "DbLXP0Nke0Py",
        "colab_type": "code",
        "outputId": "d18d99d1-e97f-473f-ceed-40096384df35",
        "colab": {
          "base_uri": "https://localhost:8080/",
          "height": 539
        }
      },
      "source": [
        "# function to label, color the bar chart.\n",
        "def draw_barchart(datetime):\n",
        "    df1 = df[df['Date'].eq(datetime)].sort_values(by='Deaths', ascending=True).tail(20)\n",
        "    \n",
        "    ax.clear()\n",
        "    ax.barh(df1['Country'], df1['Deaths'], color=[colors[group_lk[x]] for x in df1['Country']])\n",
        "    dx = df1['Deaths'].max() / 200\n",
        "    for i, (Deaths, Country) in enumerate(zip(df1['Deaths'], df1['Country'])):\n",
        "        ax.text(Deaths-dx, i-.32,     Country,                   size=14, weight=600, ha='right', va='bottom')\n",
        "        #ax.text(Deaths-dx, i-.40, group_lk[Country],         size=10, color='#333F4B', ha='right', va='baseline')\n",
        "        ax.text(Deaths+dx, i,     f'{Deaths:,.0f}',       size=14, ha='left',  va='center')\n",
        "    # ... polished styles\n",
        "    ax.text(1, 0.4, datetime, transform=ax.transAxes, color='#777777', size=46, ha='right', weight=800)\n",
        "    ax.text(0, 1.06, 'Death Cases (COVID-19)', transform=ax.transAxes, size=12, color='#777777')\n",
        "    ax.xaxis.set_major_formatter(ticker.StrMethodFormatter('{x:,.0f}'))\n",
        "    ax.xaxis.set_ticks_position('top')\n",
        "    ax.tick_params(axis='x', colors='#777777', labelsize=12)\n",
        "    ax.set_yticks([])\n",
        "    ax.margins(0, 0.01)\n",
        "    ax.grid(which='major', axis='x', linestyle='-')\n",
        "    ax.set_axisbelow(True)\n",
        "    ax.set_facecolor('#3e3f42')\n",
        "    fig.set_facecolor('#3e3f42')\n",
        "    ax.text(0, 1.12, 'COVID-19 Total Deaths by Country | Top 20',\n",
        "            transform=ax.transAxes, size=24, weight=600, ha='left')\n",
        "    ax.text(1, 0, 'by Charles Vanchieri; credit @CVanchieri', transform=ax.transAxes, ha='right',\n",
        "            color='#777777', bbox=dict(facecolor='white', alpha=0.8, edgecolor='white'))\n",
        "    plt.box(False)\n",
        "\n",
        "fig, ax = plt.subplots(figsize=(15, 8))   \n",
        "# use the function on yesterdays date.\n",
        "draw_barchart(yesterday)"
      ],
      "execution_count": 13,
      "outputs": [
        {
          "output_type": "display_data",
          "data": {
            "image/png": "[encoded data removed]",
            "text/plain": [
              "<Figure size 1080x576 with 1 Axes>"
            ]
          },
          "metadata": {
            "tags": []
          }
        }
      ]
    },
    {
      "cell_type": "code",
      "metadata": {
        "id": "pNRnQNyxj8Q3",
        "colab_type": "code",
        "colab": {}
      },
      "source": [
        "%%capture\n",
        "plt.rcParams['animation.html'] = \"jshtml\"\n",
        "time = list(df['Date'].unique())\n",
        "fig, ax = plt.subplots(figsize=(18, 10)) \n",
        "# create the bar chart race animation.\n",
        "animator = animation.FuncAnimation(fig, draw_barchart, frames=(time), interval=250)"
      ],
      "execution_count": 0,
      "outputs": []
    },
    {
      "cell_type": "code",
      "metadata": {
        "id": "5uheCGvCjCFd",
        "colab_type": "code",
        "colab": {}
      },
      "source": [
        "from IPython.display import HTML\n",
        "HTML(animator.to_html5_video())"
      ],
      "execution_count": 0,
      "outputs": []
    }
  ]
}